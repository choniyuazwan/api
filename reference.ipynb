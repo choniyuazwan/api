{
 "cells": [
  {
   "cell_type": "code",
   "execution_count": 64,
   "metadata": {},
   "outputs": [],
   "source": [
    "from gensim.models.wrappers import FastText\n",
    "from gensim.models import KeyedVectors\n",
    "# from gensim.models.keyedvectors import KeyedVectors\n",
    "from gensim.models import Word2Vec\n",
    "# from gensim.models.word2vec import Word2Vec"
   ]
  },
  {
   "cell_type": "code",
   "execution_count": 11,
   "metadata": {},
   "outputs": [],
   "source": [
    "model_fast = FastText.load_fasttext_format('id-model/id.bin')"
   ]
  },
  {
   "cell_type": "code",
   "execution_count": 55,
   "metadata": {},
   "outputs": [],
   "source": [
    "model_word = KeyedVectors.load_word2vec_format('id-model/id.vec')"
   ]
  },
  {
   "cell_type": "code",
   "execution_count": 65,
   "metadata": {},
   "outputs": [
    {
     "name": "stderr",
     "output_type": "stream",
     "text": [
      "/anaconda3/lib/python3.7/site-packages/smart_open/smart_open_lib.py:398: UserWarning: This function is deprecated, use smart_open.open instead. See the migration notes for details: https://github.com/RaRe-Technologies/smart_open/blob/master/README.rst#migrating-to-the-new-open-function\n",
      "  'See the migration notes for details: %s' % _MIGRATION_NOTES_URL\n"
     ]
    }
   ],
   "source": [
    "model_word_bin = Word2Vec.load('id-model/word2vec/id/id.bin')"
   ]
  },
  {
   "cell_type": "code",
   "execution_count": 19,
   "metadata": {},
   "outputs": [
    {
     "name": "stdout",
     "output_type": "stream",
     "text": [
      "[('matematikawan', 0.6680018901824951), ('teolog', 0.6612710356712341), ('filsafat', 0.649808406829834), ('pemikir', 0.6278350353240967), ('sosiolog', 0.6129975318908691), ('aristoteles', 0.6077962517738342), ('penyair', 0.5922547578811646), ('sejarawan', 0.5831625461578369), ('negarawan', 0.5772448778152466), ('ekonom', 0.5689212083816528)]\n"
     ]
    }
   ],
   "source": [
    "print(model_fast.similar_by_word('filsuf'))"
   ]
  },
  {
   "cell_type": "code",
   "execution_count": 20,
   "metadata": {},
   "outputs": [
    {
     "name": "stdout",
     "output_type": "stream",
     "text": [
      "[('matematikawan', 0.6680014133453369), ('teolog', 0.6612710952758789), ('filsafat', 0.6498079299926758), ('pemikir', 0.6278345584869385), ('sosiolog', 0.6129962205886841), ('aristoteles', 0.6077967286109924), ('penyair', 0.5922555923461914), ('sejarawan', 0.5831612348556519), ('negarawan', 0.5772451162338257), ('ekonom', 0.5689213275909424)]\n"
     ]
    }
   ],
   "source": [
    "print(model_word.similar_by_word('filsuf'))"
   ]
  },
  {
   "cell_type": "code",
   "execution_count": 44,
   "metadata": {},
   "outputs": [
    {
     "name": "stdout",
     "output_type": "stream",
     "text": [
      "[('teolog', 0.7910131812095642), ('matematikawan', 0.7756298184394836), ('sosiolog', 0.7534223794937134), ('antropolog', 0.7438809275627136), ('pemikir', 0.7242075204849243), ('naturalis', 0.7085475921630859), ('penyair', 0.6866923570632935), ('ekonom', 0.6865383386611938), ('ilmuwan', 0.683081865310669), ('fisikawan', 0.6746839880943298)]\n"
     ]
    },
    {
     "name": "stderr",
     "output_type": "stream",
     "text": [
      "/anaconda3/lib/python3.7/site-packages/ipykernel_launcher.py:1: DeprecationWarning: Call to deprecated `similar_by_word` (Method will be removed in 4.0.0, use self.wv.similar_by_word() instead).\n",
      "  \"\"\"Entry point for launching an IPython kernel.\n"
     ]
    }
   ],
   "source": [
    "print(model_word_bin.similar_by_word('filsuf'))"
   ]
  },
  {
   "cell_type": "code",
   "execution_count": 48,
   "metadata": {},
   "outputs": [
    {
     "name": "stdout",
     "output_type": "stream",
     "text": [
      "[('sekularisme', 0.6669806838035583), ('keagamaan', 0.6224123239517212), ('religius', 0.5953658819198608), ('liberalisme', 0.5520766973495483), ('humanisme', 0.5465710759162903), ('institusi-institusi', 0.5454519391059875), ('ortodoksi', 0.5430129766464233), ('tradisi-tradisi', 0.5410431623458862), ('monastik', 0.5394036769866943), ('islamis', 0.538311779499054), ('ortodoks', 0.5382018089294434), ('gerejawi', 0.5336753726005554), ('konservatif', 0.5334987044334412), ('nasionalisme', 0.5309691429138184), ('marxisme', 0.5256367325782776), ('berpolitik', 0.524357795715332), ('katolik', 0.5232381820678711), ('modernisme', 0.521306574344635), ('reformis', 0.5205633640289307), ('sosialisme', 0.5192387700080872), ('politik', 0.5164731740951538), ('kristiani', 0.5164138078689575), ('pandangan-pandangan', 0.5163903832435608), ('kepausan', 0.5161899328231812), ('fundamentalis', 0.5147013664245605), ('mariologi', 0.5127988457679749), ('rasionalisme', 0.5109342336654663), ('humanis', 0.5088126063346863), ('kekristenan', 0.5087311267852783), ('liberal', 0.5086191296577454), ('otoriter', 0.5083735585212708), ('marxis', 0.506468653678894), ('institusional', 0.5059068202972412), ('yudaisme', 0.5055320858955383), ('nasionalis', 0.505377471446991), ('ideologi', 0.5042544007301331), ('pluralisme', 0.5029219388961792), ('zionisme', 0.5003734827041626), ('rohaniwan', 0.5001261830329895), ('konstitusional', 0.49938780069351196), ('realisme', 0.4958988130092621), ('anarkisme', 0.49583107233047485), ('benediktin', 0.493291437625885), ('berhaluan', 0.49238121509552), ('agama', 0.49166035652160645), ('anglikan', 0.4905894994735718), ('libertarian', 0.4888000786304474), ('gereja', 0.48807772994041443), ('maronit', 0.48539355397224426), ('zoroastrianisme', 0.4847617745399475)]\n"
     ]
    }
   ],
   "source": [
    "print(model_fast.similar_by_word('sekuler', 50))"
   ]
  },
  {
   "cell_type": "code",
   "execution_count": 49,
   "metadata": {},
   "outputs": [
    {
     "name": "stdout",
     "output_type": "stream",
     "text": [
      "[('sekularisme', 0.666980504989624), ('keagamaan', 0.6224122047424316), ('religius', 0.5953660607337952), ('liberalisme', 0.552075207233429), ('humanisme', 0.5465706586837769), ('institusi-institusi', 0.5454517006874084), ('ortodoksi', 0.5430129170417786), ('tradisi-tradisi', 0.5410438776016235), ('monastik', 0.5394042730331421), ('islamis', 0.5383116006851196), ('ortodoks', 0.538201630115509), ('gerejawi', 0.5336761474609375), ('konservatif', 0.5334994196891785), ('nasionalisme', 0.5309686660766602), ('marxisme', 0.5256367921829224), ('berpolitik', 0.5243573188781738), ('katolik', 0.5232386589050293), ('modernisme', 0.5213064551353455), ('reformis', 0.520563542842865), ('sosialisme', 0.5192387104034424), ('politik', 0.5164739489555359), ('kristiani', 0.5164132714271545), ('pandangan-pandangan', 0.5163905620574951), ('kepausan', 0.5161899924278259), ('fundamentalis', 0.5147004127502441), ('mariologi', 0.5127986669540405), ('rasionalisme', 0.5109342336654663), ('humanis', 0.5088117122650146), ('kekristenan', 0.508731484413147), ('liberal', 0.508618950843811), ('otoriter', 0.5083743333816528), ('marxis', 0.5064682364463806), ('institusional', 0.5059062838554382), ('yudaisme', 0.5055321455001831), ('nasionalis', 0.5053778886795044), ('ideologi', 0.5042538046836853), ('pluralisme', 0.5029207468032837), ('zionisme', 0.5003737807273865), ('rohaniwan', 0.5001256465911865), ('konstitusional', 0.4993892312049866), ('realisme', 0.4958978295326233), ('anarkisme', 0.49583059549331665), ('benediktin', 0.49329233169555664), ('berhaluan', 0.4923820495605469), ('agama', 0.49166107177734375), ('anglikan', 0.4905901849269867), ('libertarian', 0.4887993335723877), ('gereja', 0.4880788028240204), ('maronit', 0.48539525270462036), ('zoroastrianisme', 0.48476189374923706)]\n"
     ]
    }
   ],
   "source": [
    "print(model_word.similar_by_word('sekuler', 50))"
   ]
  },
  {
   "cell_type": "code",
   "execution_count": 50,
   "metadata": {},
   "outputs": [
    {
     "name": "stdout",
     "output_type": "stream",
     "text": [
      "[('religius', 0.6727284789085388), ('konservatif', 0.633561372756958), ('keagamaan', 0.616108238697052), ('sekularisme', 0.6108893752098083), ('liberal', 0.6069475412368774), ('anarkisme', 0.5923309922218323), ('marxisme', 0.586994469165802), ('marxis', 0.5836206078529358), ('ideologis', 0.575693666934967), ('yudaisme', 0.573378324508667), ('komunisme', 0.5706713199615479), ('otoriter', 0.5670565962791443), ('konfusianisme', 0.566511332988739), ('moderat', 0.5660779476165771), ('karismatik', 0.5622258186340332), ('anarkis', 0.5612202286720276), ('calvinis', 0.5595040917396545), ('ateisme', 0.5562049150466919), ('paganisme', 0.5550159811973572), ('ideologi', 0.5488592386245728), ('demokratis', 0.543742299079895), ('arian', 0.5429644584655762), ('teologis', 0.5393235087394714), ('sosialisme', 0.5350148677825928), ('liberalisme', 0.5349372029304504), ('pluralisme', 0.5340605974197388), ('monastik', 0.5330526828765869), ('gerejawi', 0.532967209815979), ('humanisme', 0.5328000783920288), ('realisme', 0.5320612192153931), ('kristiani', 0.5317662358283997), ('materialisme', 0.5267208814620972), ('praktik-praktik', 0.5246659517288208), ('evangelikal', 0.5230547189712524), ('progresif', 0.5219297409057617), ('spiritualitas', 0.5216041803359985), ('moralitas', 0.5155943632125854), ('politis', 0.5152134895324707), ('kapitalisme', 0.5140017867088318), ('reformis', 0.5124475955963135), ('kekristenan', 0.5091812610626221), ('ateis', 0.5078858733177185), ('fundamentalis', 0.5069500207901001), ('norma-norma', 0.5041408538818359), ('pagan', 0.5035742521286011), ('filosofis', 0.5032005906105042), ('doktrin-doktrin', 0.5018685460090637), ('realis', 0.5007731914520264), ('hinduisme', 0.500767707824707), ('kapitalis', 0.49912041425704956)]\n"
     ]
    },
    {
     "name": "stderr",
     "output_type": "stream",
     "text": [
      "/anaconda3/lib/python3.7/site-packages/ipykernel_launcher.py:1: DeprecationWarning: Call to deprecated `similar_by_word` (Method will be removed in 4.0.0, use self.wv.similar_by_word() instead).\n",
      "  \"\"\"Entry point for launching an IPython kernel.\n"
     ]
    }
   ],
   "source": [
    "print(model_word_bin.similar_by_word('sekuler', 50))"
   ]
  },
  {
   "cell_type": "code",
   "execution_count": 25,
   "metadata": {},
   "outputs": [
    {
     "name": "stdout",
     "output_type": "stream",
     "text": [
      "[('sekuler', 0.8844906091690063), ('sekularisme', 0.6993399858474731), ('liberalisme', 0.5767087340354919), ('fundamentalis', 0.5420554876327515), ('sosialisme', 0.5408479571342468), ('nasionalisme', 0.5311397314071655), ('keagamaan', 0.5281515717506409), ('ortodoksi', 0.5213668942451477), ('marxisme', 0.5209455490112305), ('libertarian', 0.5159702301025391)]\n"
     ]
    }
   ],
   "source": [
    "print(model_fast.similar_by_word('sekule'))"
   ]
  },
  {
   "cell_type": "code",
   "execution_count": 26,
   "metadata": {},
   "outputs": [
    {
     "ename": "KeyError",
     "evalue": "\"word 'sekule' not in vocabulary\"",
     "output_type": "error",
     "traceback": [
      "\u001b[0;31m---------------------------------------------------------------------------\u001b[0m",
      "\u001b[0;31mKeyError\u001b[0m                                  Traceback (most recent call last)",
      "\u001b[0;32m<ipython-input-26-3669526125c7>\u001b[0m in \u001b[0;36m<module>\u001b[0;34m\u001b[0m\n\u001b[0;32m----> 1\u001b[0;31m \u001b[0mprint\u001b[0m\u001b[0;34m(\u001b[0m\u001b[0mmodel_word\u001b[0m\u001b[0;34m.\u001b[0m\u001b[0msimilar_by_word\u001b[0m\u001b[0;34m(\u001b[0m\u001b[0;34m'sekule'\u001b[0m\u001b[0;34m)\u001b[0m\u001b[0;34m)\u001b[0m\u001b[0;34m\u001b[0m\u001b[0;34m\u001b[0m\u001b[0m\n\u001b[0m",
      "\u001b[0;32m/anaconda3/lib/python3.7/site-packages/gensim/models/keyedvectors.py\u001b[0m in \u001b[0;36msimilar_by_word\u001b[0;34m(self, word, topn, restrict_vocab)\u001b[0m\n\u001b[1;32m    410\u001b[0m \u001b[0;34m\u001b[0m\u001b[0m\n\u001b[1;32m    411\u001b[0m         \"\"\"\n\u001b[0;32m--> 412\u001b[0;31m         \u001b[0;32mreturn\u001b[0m \u001b[0mself\u001b[0m\u001b[0;34m.\u001b[0m\u001b[0mmost_similar\u001b[0m\u001b[0;34m(\u001b[0m\u001b[0mpositive\u001b[0m\u001b[0;34m=\u001b[0m\u001b[0;34m[\u001b[0m\u001b[0mword\u001b[0m\u001b[0;34m]\u001b[0m\u001b[0;34m,\u001b[0m \u001b[0mtopn\u001b[0m\u001b[0;34m=\u001b[0m\u001b[0mtopn\u001b[0m\u001b[0;34m,\u001b[0m \u001b[0mrestrict_vocab\u001b[0m\u001b[0;34m=\u001b[0m\u001b[0mrestrict_vocab\u001b[0m\u001b[0;34m)\u001b[0m\u001b[0;34m\u001b[0m\u001b[0;34m\u001b[0m\u001b[0m\n\u001b[0m\u001b[1;32m    413\u001b[0m \u001b[0;34m\u001b[0m\u001b[0m\n\u001b[1;32m    414\u001b[0m     \u001b[0;32mdef\u001b[0m \u001b[0msimilar_by_vector\u001b[0m\u001b[0;34m(\u001b[0m\u001b[0mself\u001b[0m\u001b[0;34m,\u001b[0m \u001b[0mvector\u001b[0m\u001b[0;34m,\u001b[0m \u001b[0mtopn\u001b[0m\u001b[0;34m=\u001b[0m\u001b[0;36m10\u001b[0m\u001b[0;34m,\u001b[0m \u001b[0mrestrict_vocab\u001b[0m\u001b[0;34m=\u001b[0m\u001b[0;32mNone\u001b[0m\u001b[0;34m)\u001b[0m\u001b[0;34m:\u001b[0m\u001b[0;34m\u001b[0m\u001b[0;34m\u001b[0m\u001b[0m\n",
      "\u001b[0;32m/anaconda3/lib/python3.7/site-packages/gensim/models/keyedvectors.py\u001b[0m in \u001b[0;36mmost_similar\u001b[0;34m(self, positive, negative, topn, restrict_vocab, indexer)\u001b[0m\n\u001b[1;32m    363\u001b[0m                 \u001b[0mmean\u001b[0m\u001b[0;34m.\u001b[0m\u001b[0mappend\u001b[0m\u001b[0;34m(\u001b[0m\u001b[0mweight\u001b[0m \u001b[0;34m*\u001b[0m \u001b[0mword\u001b[0m\u001b[0;34m)\u001b[0m\u001b[0;34m\u001b[0m\u001b[0;34m\u001b[0m\u001b[0m\n\u001b[1;32m    364\u001b[0m             \u001b[0;32melse\u001b[0m\u001b[0;34m:\u001b[0m\u001b[0;34m\u001b[0m\u001b[0;34m\u001b[0m\u001b[0m\n\u001b[0;32m--> 365\u001b[0;31m                 \u001b[0mmean\u001b[0m\u001b[0;34m.\u001b[0m\u001b[0mappend\u001b[0m\u001b[0;34m(\u001b[0m\u001b[0mweight\u001b[0m \u001b[0;34m*\u001b[0m \u001b[0mself\u001b[0m\u001b[0;34m.\u001b[0m\u001b[0mword_vec\u001b[0m\u001b[0;34m(\u001b[0m\u001b[0mword\u001b[0m\u001b[0;34m,\u001b[0m \u001b[0muse_norm\u001b[0m\u001b[0;34m=\u001b[0m\u001b[0;32mTrue\u001b[0m\u001b[0;34m)\u001b[0m\u001b[0;34m)\u001b[0m\u001b[0;34m\u001b[0m\u001b[0;34m\u001b[0m\u001b[0m\n\u001b[0m\u001b[1;32m    366\u001b[0m                 \u001b[0;32mif\u001b[0m \u001b[0mword\u001b[0m \u001b[0;32min\u001b[0m \u001b[0mself\u001b[0m\u001b[0;34m.\u001b[0m\u001b[0mvocab\u001b[0m\u001b[0;34m:\u001b[0m\u001b[0;34m\u001b[0m\u001b[0;34m\u001b[0m\u001b[0m\n\u001b[1;32m    367\u001b[0m                     \u001b[0mall_words\u001b[0m\u001b[0;34m.\u001b[0m\u001b[0madd\u001b[0m\u001b[0;34m(\u001b[0m\u001b[0mself\u001b[0m\u001b[0;34m.\u001b[0m\u001b[0mvocab\u001b[0m\u001b[0;34m[\u001b[0m\u001b[0mword\u001b[0m\u001b[0;34m]\u001b[0m\u001b[0;34m.\u001b[0m\u001b[0mindex\u001b[0m\u001b[0;34m)\u001b[0m\u001b[0;34m\u001b[0m\u001b[0;34m\u001b[0m\u001b[0m\n",
      "\u001b[0;32m/anaconda3/lib/python3.7/site-packages/gensim/models/keyedvectors.py\u001b[0m in \u001b[0;36mword_vec\u001b[0;34m(self, word, use_norm)\u001b[0m\n\u001b[1;32m    272\u001b[0m             \u001b[0;32mreturn\u001b[0m \u001b[0mresult\u001b[0m\u001b[0;34m\u001b[0m\u001b[0;34m\u001b[0m\u001b[0m\n\u001b[1;32m    273\u001b[0m         \u001b[0;32melse\u001b[0m\u001b[0;34m:\u001b[0m\u001b[0;34m\u001b[0m\u001b[0;34m\u001b[0m\u001b[0m\n\u001b[0;32m--> 274\u001b[0;31m             \u001b[0;32mraise\u001b[0m \u001b[0mKeyError\u001b[0m\u001b[0;34m(\u001b[0m\u001b[0;34m\"word '%s' not in vocabulary\"\u001b[0m \u001b[0;34m%\u001b[0m \u001b[0mword\u001b[0m\u001b[0;34m)\u001b[0m\u001b[0;34m\u001b[0m\u001b[0;34m\u001b[0m\u001b[0m\n\u001b[0m\u001b[1;32m    275\u001b[0m \u001b[0;34m\u001b[0m\u001b[0m\n\u001b[1;32m    276\u001b[0m     \u001b[0;32mdef\u001b[0m \u001b[0mget_vector\u001b[0m\u001b[0;34m(\u001b[0m\u001b[0mself\u001b[0m\u001b[0;34m,\u001b[0m \u001b[0mword\u001b[0m\u001b[0;34m)\u001b[0m\u001b[0;34m:\u001b[0m\u001b[0;34m\u001b[0m\u001b[0;34m\u001b[0m\u001b[0m\n",
      "\u001b[0;31mKeyError\u001b[0m: \"word 'sekule' not in vocabulary\""
     ]
    }
   ],
   "source": [
    "print(model_word.similar_by_word('sekule'))"
   ]
  },
  {
   "cell_type": "code",
   "execution_count": 47,
   "metadata": {},
   "outputs": [
    {
     "name": "stderr",
     "output_type": "stream",
     "text": [
      "/anaconda3/lib/python3.7/site-packages/ipykernel_launcher.py:1: DeprecationWarning: Call to deprecated `similar_by_word` (Method will be removed in 4.0.0, use self.wv.similar_by_word() instead).\n",
      "  \"\"\"Entry point for launching an IPython kernel.\n"
     ]
    },
    {
     "ename": "KeyError",
     "evalue": "\"word 'sekule' not in vocabulary\"",
     "output_type": "error",
     "traceback": [
      "\u001b[0;31m---------------------------------------------------------------------------\u001b[0m",
      "\u001b[0;31mKeyError\u001b[0m                                  Traceback (most recent call last)",
      "\u001b[0;32m<ipython-input-47-547fa19ac3a2>\u001b[0m in \u001b[0;36m<module>\u001b[0;34m\u001b[0m\n\u001b[0;32m----> 1\u001b[0;31m \u001b[0mprint\u001b[0m\u001b[0;34m(\u001b[0m\u001b[0mmodel_word_bin\u001b[0m\u001b[0;34m.\u001b[0m\u001b[0msimilar_by_word\u001b[0m\u001b[0;34m(\u001b[0m\u001b[0;34m'sekule'\u001b[0m\u001b[0;34m)\u001b[0m\u001b[0;34m)\u001b[0m\u001b[0;34m\u001b[0m\u001b[0;34m\u001b[0m\u001b[0m\n\u001b[0m",
      "\u001b[0;32m/anaconda3/lib/python3.7/site-packages/gensim/utils.py\u001b[0m in \u001b[0;36mnew_func1\u001b[0;34m(*args, **kwargs)\u001b[0m\n\u001b[1;32m   1396\u001b[0m                     \u001b[0mstacklevel\u001b[0m\u001b[0;34m=\u001b[0m\u001b[0;36m2\u001b[0m\u001b[0;34m\u001b[0m\u001b[0;34m\u001b[0m\u001b[0m\n\u001b[1;32m   1397\u001b[0m                 )\n\u001b[0;32m-> 1398\u001b[0;31m                 \u001b[0;32mreturn\u001b[0m \u001b[0mfunc\u001b[0m\u001b[0;34m(\u001b[0m\u001b[0;34m*\u001b[0m\u001b[0margs\u001b[0m\u001b[0;34m,\u001b[0m \u001b[0;34m**\u001b[0m\u001b[0mkwargs\u001b[0m\u001b[0;34m)\u001b[0m\u001b[0;34m\u001b[0m\u001b[0;34m\u001b[0m\u001b[0m\n\u001b[0m\u001b[1;32m   1399\u001b[0m \u001b[0;34m\u001b[0m\u001b[0m\n\u001b[1;32m   1400\u001b[0m             \u001b[0;32mreturn\u001b[0m \u001b[0mnew_func1\u001b[0m\u001b[0;34m\u001b[0m\u001b[0;34m\u001b[0m\u001b[0m\n",
      "\u001b[0;32m/anaconda3/lib/python3.7/site-packages/gensim/models/base_any2vec.py\u001b[0m in \u001b[0;36msimilar_by_word\u001b[0;34m(self, word, topn, restrict_vocab)\u001b[0m\n\u001b[1;32m    718\u001b[0m         \u001b[0mRefer\u001b[0m \u001b[0mto\u001b[0m \u001b[0mthe\u001b[0m \u001b[0mdocumentation\u001b[0m \u001b[0;32mfor\u001b[0m\u001b[0;31m \u001b[0m\u001b[0;31m`\u001b[0m\u001b[0mgensim\u001b[0m\u001b[0;34m.\u001b[0m\u001b[0mmodels\u001b[0m\u001b[0;34m.\u001b[0m\u001b[0mkeyedvectors\u001b[0m\u001b[0;34m.\u001b[0m\u001b[0mWordEmbeddingsKeyedVectors\u001b[0m\u001b[0;34m.\u001b[0m\u001b[0msimilar_by_word\u001b[0m\u001b[0;31m`\u001b[0m\u001b[0;34m\u001b[0m\u001b[0;34m\u001b[0m\u001b[0m\n\u001b[1;32m    719\u001b[0m         \"\"\"\n\u001b[0;32m--> 720\u001b[0;31m         \u001b[0;32mreturn\u001b[0m \u001b[0mself\u001b[0m\u001b[0;34m.\u001b[0m\u001b[0mwv\u001b[0m\u001b[0;34m.\u001b[0m\u001b[0msimilar_by_word\u001b[0m\u001b[0;34m(\u001b[0m\u001b[0mword\u001b[0m\u001b[0;34m,\u001b[0m \u001b[0mtopn\u001b[0m\u001b[0;34m,\u001b[0m \u001b[0mrestrict_vocab\u001b[0m\u001b[0;34m)\u001b[0m\u001b[0;34m\u001b[0m\u001b[0;34m\u001b[0m\u001b[0m\n\u001b[0m\u001b[1;32m    721\u001b[0m \u001b[0;34m\u001b[0m\u001b[0m\n\u001b[1;32m    722\u001b[0m     \u001b[0;34m@\u001b[0m\u001b[0mdeprecated\u001b[0m\u001b[0;34m(\u001b[0m\u001b[0;34m\"Method will be removed in 4.0.0, use self.wv.similar_by_vector() instead\"\u001b[0m\u001b[0;34m)\u001b[0m\u001b[0;34m\u001b[0m\u001b[0;34m\u001b[0m\u001b[0m\n",
      "\u001b[0;32m/anaconda3/lib/python3.7/site-packages/gensim/models/keyedvectors.py\u001b[0m in \u001b[0;36msimilar_by_word\u001b[0;34m(self, word, topn, restrict_vocab)\u001b[0m\n\u001b[1;32m    410\u001b[0m \u001b[0;34m\u001b[0m\u001b[0m\n\u001b[1;32m    411\u001b[0m         \"\"\"\n\u001b[0;32m--> 412\u001b[0;31m         \u001b[0;32mreturn\u001b[0m \u001b[0mself\u001b[0m\u001b[0;34m.\u001b[0m\u001b[0mmost_similar\u001b[0m\u001b[0;34m(\u001b[0m\u001b[0mpositive\u001b[0m\u001b[0;34m=\u001b[0m\u001b[0;34m[\u001b[0m\u001b[0mword\u001b[0m\u001b[0;34m]\u001b[0m\u001b[0;34m,\u001b[0m \u001b[0mtopn\u001b[0m\u001b[0;34m=\u001b[0m\u001b[0mtopn\u001b[0m\u001b[0;34m,\u001b[0m \u001b[0mrestrict_vocab\u001b[0m\u001b[0;34m=\u001b[0m\u001b[0mrestrict_vocab\u001b[0m\u001b[0;34m)\u001b[0m\u001b[0;34m\u001b[0m\u001b[0;34m\u001b[0m\u001b[0m\n\u001b[0m\u001b[1;32m    413\u001b[0m \u001b[0;34m\u001b[0m\u001b[0m\n\u001b[1;32m    414\u001b[0m     \u001b[0;32mdef\u001b[0m \u001b[0msimilar_by_vector\u001b[0m\u001b[0;34m(\u001b[0m\u001b[0mself\u001b[0m\u001b[0;34m,\u001b[0m \u001b[0mvector\u001b[0m\u001b[0;34m,\u001b[0m \u001b[0mtopn\u001b[0m\u001b[0;34m=\u001b[0m\u001b[0;36m10\u001b[0m\u001b[0;34m,\u001b[0m \u001b[0mrestrict_vocab\u001b[0m\u001b[0;34m=\u001b[0m\u001b[0;32mNone\u001b[0m\u001b[0;34m)\u001b[0m\u001b[0;34m:\u001b[0m\u001b[0;34m\u001b[0m\u001b[0;34m\u001b[0m\u001b[0m\n",
      "\u001b[0;32m/anaconda3/lib/python3.7/site-packages/gensim/models/keyedvectors.py\u001b[0m in \u001b[0;36mmost_similar\u001b[0;34m(self, positive, negative, topn, restrict_vocab, indexer)\u001b[0m\n\u001b[1;32m    363\u001b[0m                 \u001b[0mmean\u001b[0m\u001b[0;34m.\u001b[0m\u001b[0mappend\u001b[0m\u001b[0;34m(\u001b[0m\u001b[0mweight\u001b[0m \u001b[0;34m*\u001b[0m \u001b[0mword\u001b[0m\u001b[0;34m)\u001b[0m\u001b[0;34m\u001b[0m\u001b[0;34m\u001b[0m\u001b[0m\n\u001b[1;32m    364\u001b[0m             \u001b[0;32melse\u001b[0m\u001b[0;34m:\u001b[0m\u001b[0;34m\u001b[0m\u001b[0;34m\u001b[0m\u001b[0m\n\u001b[0;32m--> 365\u001b[0;31m                 \u001b[0mmean\u001b[0m\u001b[0;34m.\u001b[0m\u001b[0mappend\u001b[0m\u001b[0;34m(\u001b[0m\u001b[0mweight\u001b[0m \u001b[0;34m*\u001b[0m \u001b[0mself\u001b[0m\u001b[0;34m.\u001b[0m\u001b[0mword_vec\u001b[0m\u001b[0;34m(\u001b[0m\u001b[0mword\u001b[0m\u001b[0;34m,\u001b[0m \u001b[0muse_norm\u001b[0m\u001b[0;34m=\u001b[0m\u001b[0;32mTrue\u001b[0m\u001b[0;34m)\u001b[0m\u001b[0;34m)\u001b[0m\u001b[0;34m\u001b[0m\u001b[0;34m\u001b[0m\u001b[0m\n\u001b[0m\u001b[1;32m    366\u001b[0m                 \u001b[0;32mif\u001b[0m \u001b[0mword\u001b[0m \u001b[0;32min\u001b[0m \u001b[0mself\u001b[0m\u001b[0;34m.\u001b[0m\u001b[0mvocab\u001b[0m\u001b[0;34m:\u001b[0m\u001b[0;34m\u001b[0m\u001b[0;34m\u001b[0m\u001b[0m\n\u001b[1;32m    367\u001b[0m                     \u001b[0mall_words\u001b[0m\u001b[0;34m.\u001b[0m\u001b[0madd\u001b[0m\u001b[0;34m(\u001b[0m\u001b[0mself\u001b[0m\u001b[0;34m.\u001b[0m\u001b[0mvocab\u001b[0m\u001b[0;34m[\u001b[0m\u001b[0mword\u001b[0m\u001b[0;34m]\u001b[0m\u001b[0;34m.\u001b[0m\u001b[0mindex\u001b[0m\u001b[0;34m)\u001b[0m\u001b[0;34m\u001b[0m\u001b[0;34m\u001b[0m\u001b[0m\n",
      "\u001b[0;32m/anaconda3/lib/python3.7/site-packages/gensim/models/keyedvectors.py\u001b[0m in \u001b[0;36mword_vec\u001b[0;34m(self, word, use_norm)\u001b[0m\n\u001b[1;32m    272\u001b[0m             \u001b[0;32mreturn\u001b[0m \u001b[0mresult\u001b[0m\u001b[0;34m\u001b[0m\u001b[0;34m\u001b[0m\u001b[0m\n\u001b[1;32m    273\u001b[0m         \u001b[0;32melse\u001b[0m\u001b[0;34m:\u001b[0m\u001b[0;34m\u001b[0m\u001b[0;34m\u001b[0m\u001b[0m\n\u001b[0;32m--> 274\u001b[0;31m             \u001b[0;32mraise\u001b[0m \u001b[0mKeyError\u001b[0m\u001b[0;34m(\u001b[0m\u001b[0;34m\"word '%s' not in vocabulary\"\u001b[0m \u001b[0;34m%\u001b[0m \u001b[0mword\u001b[0m\u001b[0;34m)\u001b[0m\u001b[0;34m\u001b[0m\u001b[0;34m\u001b[0m\u001b[0m\n\u001b[0m\u001b[1;32m    275\u001b[0m \u001b[0;34m\u001b[0m\u001b[0m\n\u001b[1;32m    276\u001b[0m     \u001b[0;32mdef\u001b[0m \u001b[0mget_vector\u001b[0m\u001b[0;34m(\u001b[0m\u001b[0mself\u001b[0m\u001b[0;34m,\u001b[0m \u001b[0mword\u001b[0m\u001b[0;34m)\u001b[0m\u001b[0;34m:\u001b[0m\u001b[0;34m\u001b[0m\u001b[0;34m\u001b[0m\u001b[0m\n",
      "\u001b[0;31mKeyError\u001b[0m: \"word 'sekule' not in vocabulary\""
     ]
    }
   ],
   "source": [
    "print(model_word_bin.similar_by_word('sekule'))"
   ]
  },
  {
   "cell_type": "code",
   "execution_count": 67,
   "metadata": {},
   "outputs": [],
   "source": [
    "data = [\n",
    "    [\n",
    "        \"astronomi\",\n",
    "        0.812840461730957\n",
    "    ],\n",
    "    [\n",
    "        \"astronomis\",\n",
    "        0.706321120262146\n",
    "    ],\n",
    "    [\n",
    "        \"matematikawan\",\n",
    "        0.6826797723770142\n",
    "    ]\n",
    "]"
   ]
  },
  {
   "cell_type": "code",
   "execution_count": 107,
   "metadata": {},
   "outputs": [
    {
     "name": "stdout",
     "output_type": "stream",
     "text": [
      "[{'word': 'astronomi', 'value': 0.812840461730957}, {'word': 'astronomis', 'value': 0.706321120262146}, {'word': 'matematikawan', 'value': 0.6826797723770142}]\n"
     ]
    }
   ],
   "source": [
    "list_new = []\n",
    "for i, j in data:\n",
    "    list_new.append({'word':i, 'value':j})\n",
    "print(list_new)"
   ]
  },
  {
   "cell_type": "code",
   "execution_count": null,
   "metadata": {},
   "outputs": [],
   "source": []
  },
  {
   "cell_type": "code",
   "execution_count": 1,
   "metadata": {},
   "outputs": [
    {
     "name": "stderr",
     "output_type": "stream",
     "text": [
      "/anaconda3/lib/python3.7/site-packages/smart_open/smart_open_lib.py:398: UserWarning: This function is deprecated, use smart_open.open instead. See the migration notes for details: https://github.com/RaRe-Technologies/smart_open/blob/master/README.rst#migrating-to-the-new-open-function\n",
      "  'See the migration notes for details: %s' % _MIGRATION_NOTES_URL\n"
     ]
    }
   ],
   "source": [
    "from gensim.models import KeyedVectors\n",
    "model_word = KeyedVectors.load_word2vec_format('id-model/id.vec')"
   ]
  },
  {
   "cell_type": "code",
   "execution_count": 15,
   "metadata": {},
   "outputs": [
    {
     "name": "stdout",
     "output_type": "stream",
     "text": [
      "[('sekularisme', 0.666980504989624), ('keagamaan', 0.6224122047424316), ('religius', 0.5953660607337952), ('liberalisme', 0.552075207233429), ('humanisme', 0.5465706586837769), ('institusi-institusi', 0.5454517006874084), ('ortodoksi', 0.5430129170417786), ('tradisi-tradisi', 0.5410438776016235), ('monastik', 0.5394042730331421), ('islamis', 0.5383116006851196)]\n"
     ]
    }
   ],
   "source": [
    "result = []\n",
    "response = []\n",
    "similar = []\n",
    "key = 'sekuler'\n",
    "for line in open('projects/api/quran.txt'):\n",
    "    if key in line:\n",
    "        result.append(line.strip())\n",
    "\n",
    "if not result:\n",
    "    similar = model_word.similar_by_word(key)\n",
    "    print(similar)  \n",
    "else:\n",
    "    for item in result:\n",
    "        output = item.split('|')\n",
    "        response.append(output)\n",
    "        \n",
    "    print(response)"
   ]
  },
  {
   "cell_type": "code",
   "execution_count": null,
   "metadata": {},
   "outputs": [],
   "source": [
    "outcome = []\n",
    "count = 0\n",
    "for i, j in similar:\n",
    "    if count<2:\n",
    "        for line in open('quran.txt'):\n",
    "            if i in line:\n",
    "                outcome.append(line.strip())\n",
    "\n",
    "        if not outcome:\n",
    "    #         similar = model_word.similar_by_word(key)\n",
    "    #         print(similar)\n",
    "            print('not found')\n",
    "        else:\n",
    "            count+=1\n",
    "            print('number '+ str(count) + ' ' + i)\n",
    "            print(outcome)\n",
    "            \n",
    "        outcome.clear()"
   ]
  },
  {
   "cell_type": "code",
   "execution_count": null,
   "metadata": {},
   "outputs": [],
   "source": [
    "for i, j in similar:\n",
    "    print(i)"
   ]
  },
  {
   "cell_type": "code",
   "execution_count": null,
   "metadata": {},
   "outputs": [],
   "source": []
  },
  {
   "cell_type": "code",
   "execution_count": 13,
   "metadata": {},
   "outputs": [],
   "source": [
    "translation = [\n",
    "  [\n",
    "    \"24\",\n",
    "    \"31\",\n",
    "    \"Katakanlah kepada wanita yang beriman: \\\"Hendaklah mereka menahan pandangannya, dan kemaluannya, dan janganlah mereka menampakkan perhiasannya, kecuali yang (biasa) nampak dari padanya. Dan hendaklah mereka menutupkan kain kudung kedadanya, dan janganlah menampakkan perhiasannya kecuali kepada suami mereka, atau ayah mereka, atau ayah suami mereka, atau putera-putera mereka, atau putera-putera suami mereka, atau saudara-saudara laki-laki mereka, atau putera-putera saudara lelaki mereka, atau putera-putera saudara perempuan mereka, atau wanita-wanita islam, atau budak-budak yang mereka miliki, atau pelayan-pelayan laki-laki yang tidak mempunyai keinginan (terhadap wanita) atau anak-anak yang belum mengerti tentang aurat wanita. Dan janganlah mereka memukulkan kakinyua agar diketahui perhiasan yang mereka sembunyikan. Dan bertaubatlah kamu sekalian kepada Allah, hai orang-orang yang beriman supaya kamu beruntung.\"\n",
    "  ],\n",
    "  [\n",
    "    \"27\",\n",
    "    \"43\",\n",
    "    \"Dan apa yang disembahnya selama ini selain Allah, mencegahnya (untuk melahirkan keislamannya), karena sesungguhnya dia dahulunya termasuk orang-orang yang kafir.\"\n",
    "  ],\n",
    "  [\n",
    "    \"49\",\n",
    "    \"17\",\n",
    "    \"Mereka merasa telah memberi nikmat kepadamu dengan keislaman mereka. Katakanlah: \\\"Janganlah kamu merasa telah memberi nikmat kepadaku dengan keislamanmu, sebenarnya Allah, Dialah yang melimpahkan nikmat kepadamu dengan menunjuki kamu kepada keimanan jika kamu adalah orang-orang yang benar\\\".\"\n",
    "  ]\n",
    "]"
   ]
  },
  {
   "cell_type": "code",
   "execution_count": 14,
   "metadata": {},
   "outputs": [
    {
     "name": "stdout",
     "output_type": "stream",
     "text": [
      "[{'surah': '24', 'ayat': '31', 'text': 'Katakanlah kepada wanita yang beriman: \"Hendaklah mereka menahan pandangannya, dan kemaluannya, dan janganlah mereka menampakkan perhiasannya, kecuali yang (biasa) nampak dari padanya. Dan hendaklah mereka menutupkan kain kudung kedadanya, dan janganlah menampakkan perhiasannya kecuali kepada suami mereka, atau ayah mereka, atau ayah suami mereka, atau putera-putera mereka, atau putera-putera suami mereka, atau saudara-saudara laki-laki mereka, atau putera-putera saudara lelaki mereka, atau putera-putera saudara perempuan mereka, atau wanita-wanita islam, atau budak-budak yang mereka miliki, atau pelayan-pelayan laki-laki yang tidak mempunyai keinginan (terhadap wanita) atau anak-anak yang belum mengerti tentang aurat wanita. Dan janganlah mereka memukulkan kakinyua agar diketahui perhiasan yang mereka sembunyikan. Dan bertaubatlah kamu sekalian kepada Allah, hai orang-orang yang beriman supaya kamu beruntung.'}, {'surah': '27', 'ayat': '43', 'text': 'Dan apa yang disembahnya selama ini selain Allah, mencegahnya (untuk melahirkan keislamannya), karena sesungguhnya dia dahulunya termasuk orang-orang yang kafir.'}, {'surah': '49', 'ayat': '17', 'text': 'Mereka merasa telah memberi nikmat kepadamu dengan keislaman mereka. Katakanlah: \"Janganlah kamu merasa telah memberi nikmat kepadaku dengan keislamanmu, sebenarnya Allah, Dialah yang melimpahkan nikmat kepadamu dengan menunjuki kamu kepada keimanan jika kamu adalah orang-orang yang benar\".'}]\n"
     ]
    }
   ],
   "source": [
    "list_translation = []\n",
    "for i, j, k in translation:\n",
    "    list_translation.append({'surah':i, 'ayat':j, 'text':k})\n",
    "print(list_translation)"
   ]
  },
  {
   "cell_type": "code",
   "execution_count": null,
   "metadata": {},
   "outputs": [],
   "source": []
  },
  {
   "cell_type": "markdown",
   "metadata": {},
   "source": [
    "## New Build API"
   ]
  },
  {
   "cell_type": "code",
   "execution_count": 2,
   "metadata": {},
   "outputs": [
    {
     "name": "stderr",
     "output_type": "stream",
     "text": [
      "/anaconda3/lib/python3.7/site-packages/smart_open/smart_open_lib.py:398: UserWarning: This function is deprecated, use smart_open.open instead. See the migration notes for details: https://github.com/RaRe-Technologies/smart_open/blob/master/README.rst#migrating-to-the-new-open-function\n",
      "  'See the migration notes for details: %s' % _MIGRATION_NOTES_URL\n"
     ]
    }
   ],
   "source": [
    "from gensim.models import KeyedVectors\n",
    "model_word = KeyedVectors.load_word2vec_format('id.vec')"
   ]
  },
  {
   "cell_type": "code",
   "execution_count": 15,
   "metadata": {},
   "outputs": [
    {
     "name": "stdout",
     "output_type": "stream",
     "text": [
      "[('iblis', 0.6156281232833862), ('penjahat', 0.5943987369537354), ('roh-roh', 0.5810729265213013), ('perbuatan-perbuatan', 0.5646908283233643), ('perbuat', 0.5625047087669373), ('setan', 0.5540096759796143), ('terkutuk', 0.55362868309021), ('perbuatannya', 0.549463152885437), ('membinasakan', 0.5485520958900452), ('makhluk-makhluk', 0.545509934425354), ('berbuat', 0.5452499389648438), ('memperbuat', 0.5435791015625), ('makhluk', 0.5412272810935974), ('merasuki', 0.5383239984512329), ('perbuatan', 0.5335060954093933), ('licik', 0.5283476114273071), ('fasik', 0.5276302099227905), ('penipu', 0.5260635614395142), ('menipu', 0.5259659290313721), ('menyakiti', 0.5258729457855225)]\n"
     ]
    }
   ],
   "source": [
    "key = 'jahat'\n",
    "similar = model_word.similar_by_word(key, 20)\n",
    "print(similar)"
   ]
  },
  {
   "cell_type": "code",
   "execution_count": null,
   "metadata": {},
   "outputs": [],
   "source": [
    "outcome = []\n",
    "count = 0\n",
    "number = 1\n",
    "for i, j in similar:\n",
    "    if count<5:\n",
    "        for line in open('quran.txt'):\n",
    "            if i in line:\n",
    "                outcome.append(line.strip())\n",
    "\n",
    "        if not outcome:\n",
    "            print(str(number) +' not')\n",
    "        else:\n",
    "            count+=1\n",
    "            print(str(number)+ ' found ' + i + ' on order ' + str(count))\n",
    "            print(outcome)\n",
    "            print('\\n')\n",
    "            \n",
    "        number+=1\n",
    "\n",
    "        outcome.clear()"
   ]
  },
  {
   "cell_type": "code",
   "execution_count": null,
   "metadata": {},
   "outputs": [],
   "source": []
  },
  {
   "cell_type": "code",
   "execution_count": null,
   "metadata": {},
   "outputs": [],
   "source": []
  },
  {
   "cell_type": "code",
   "execution_count": null,
   "metadata": {},
   "outputs": [],
   "source": []
  },
  {
   "cell_type": "code",
   "execution_count": 27,
   "metadata": {},
   "outputs": [
    {
     "name": "stdout",
     "output_type": "stream",
     "text": [
      "1 iblis\n",
      "2 penjahat\n",
      "3 roh-roh\n",
      "4 perbuatan-perbuatan\n",
      "5 perbuat\n",
      "6 setan\n",
      "7 terkutuk\n",
      "8 perbuatannya\n",
      "9 membinasakan\n",
      "10 makhluk-makhluk\n",
      "11 berbuat\n",
      "12 memperbuat\n",
      "13 makhluk\n",
      "14 merasuki\n",
      "15 perbuatan\n",
      "16 licik\n",
      "17 fasik\n",
      "18 penipu\n",
      "19 menipu\n",
      "20 menyakiti\n"
     ]
    }
   ],
   "source": [
    "key = 'jahat'\n",
    "similar = model_word.similar_by_word(key, 20)\n",
    "n = 1\n",
    "for i, j in similar:\n",
    "    print(str(n)+ ' ' + i)\n",
    "    n+=1"
   ]
  },
  {
   "cell_type": "code",
   "execution_count": 20,
   "metadata": {},
   "outputs": [
    {
     "name": "stdout",
     "output_type": "stream",
     "text": [
      "['iblis', 'penjahat', 'perbuatan-perbuatan', 'perbuat', 'terkutuk', 'perbuatannya', 'membinasakan', 'makhluk-makhluk', 'berbuat', 'memperbuat']\n"
     ]
    }
   ],
   "source": [
    "response = []\n",
    "outcome = []\n",
    "count = 0\n",
    "for i, j in similar:\n",
    "    if count<10:\n",
    "        for line in open('quran.txt'):\n",
    "            if i in line:\n",
    "                outcome.append(line.strip())\n",
    "\n",
    "        if outcome:\n",
    "            count+=1\n",
    "            response.append(i)\n",
    "\n",
    "        outcome.clear()\n",
    "\n",
    "print(response)"
   ]
  },
  {
   "cell_type": "code",
   "execution_count": null,
   "metadata": {},
   "outputs": [],
   "source": []
  },
  {
   "cell_type": "code",
   "execution_count": null,
   "metadata": {},
   "outputs": [],
   "source": []
  },
  {
   "cell_type": "code",
   "execution_count": 1,
   "metadata": {},
   "outputs": [],
   "source": [
    "from gensim.models.wrappers import FastText"
   ]
  },
  {
   "cell_type": "code",
   "execution_count": 2,
   "metadata": {},
   "outputs": [
    {
     "name": "stderr",
     "output_type": "stream",
     "text": [
      "/anaconda3/lib/python3.7/site-packages/smart_open/smart_open_lib.py:398: UserWarning: This function is deprecated, use smart_open.open instead. See the migration notes for details: https://github.com/RaRe-Technologies/smart_open/blob/master/README.rst#migrating-to-the-new-open-function\n",
      "  'See the migration notes for details: %s' % _MIGRATION_NOTES_URL\n"
     ]
    }
   ],
   "source": [
    "model_fast = FastText.load_fasttext_format('id.bin')"
   ]
  },
  {
   "cell_type": "code",
   "execution_count": 6,
   "metadata": {},
   "outputs": [
    {
     "name": "stdout",
     "output_type": "stream",
     "text": [
      "[('yahudi', 0.9563850164413452), ('non-yahudi', 0.8475925326347351), ('yudaisme', 0.618675708770752), ('ashkenazi', 0.5940947532653809), ('sinagoga', 0.5559056997299194), ('mesianik', 0.5534521341323853), ('kekristenan', 0.5487387180328369), ('zionis', 0.5448764562606812), ('farisi', 0.5430623292922974), ('yerusalem', 0.539355993270874)]\n"
     ]
    }
   ],
   "source": [
    "print(model_fast.similar_by_word('BAnGSA yahudi'))"
   ]
  },
  {
   "cell_type": "code",
   "execution_count": null,
   "metadata": {},
   "outputs": [],
   "source": []
  },
  {
   "cell_type": "markdown",
   "metadata": {},
   "source": [
    "# Backend Python\n",
    "## Requirement\n",
    "- download pretrained word vector melalui link ![url](https://www.dropbox.com/s/9vabe1vci7cnt57/id.tar.gz?dl=0)\n",
    "- lalu extrak dan letakkan dalam folder project utama (api)\n",
    "\n",
    "## How to run\n",
    "- buka terminal atau cmd\n",
    "- masuk ke dalam folder project utama (api)\n",
    "- jalankan sintaks `python service.py`"
   ]
  },
  {
   "cell_type": "code",
   "execution_count": 9,
   "metadata": {},
   "outputs": [
    {
     "name": "stdout",
     "output_type": "stream",
     "text": [
      "masuk\n"
     ]
    }
   ],
   "source": [
    "a = 'MASUK ke dalam folder project utama (api)'\n",
    "b = 'masuk'\n",
    "\n",
    "if b.lower() in a.lower():\n",
    "    print(b)"
   ]
  },
  {
   "cell_type": "code",
   "execution_count": null,
   "metadata": {},
   "outputs": [],
   "source": []
  }
 ],
 "metadata": {
  "kernelspec": {
   "display_name": "Python 3",
   "language": "python",
   "name": "python3"
  },
  "language_info": {
   "codemirror_mode": {
    "name": "ipython",
    "version": 3
   },
   "file_extension": ".py",
   "mimetype": "text/x-python",
   "name": "python",
   "nbconvert_exporter": "python",
   "pygments_lexer": "ipython3",
   "version": "3.7.3"
  }
 },
 "nbformat": 4,
 "nbformat_minor": 2
}
